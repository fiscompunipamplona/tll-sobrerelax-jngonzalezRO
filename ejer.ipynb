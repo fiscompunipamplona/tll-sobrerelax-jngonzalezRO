{
 "cells": [
  {
   "cell_type": "code",
   "execution_count": 1,
   "metadata": {},
   "outputs": [],
   "source": [
    "from math import tanh, cosh,exp\n",
    "from numpy import linspace,arange\n",
    "from pylab import plot, show, ylim, xlabel, ylabel,grid"
   ]
  },
  {
   "cell_type": "markdown",
   "metadata": {},
   "source": [
    "## EJEMPLO 6.3 "
   ]
  },
  {
   "cell_type": "code",
   "execution_count": 2,
   "metadata": {
    "scrolled": false
   },
   "outputs": [
    {
     "data": {
      "image/png": "[encoded data removed]",
      "text/plain": [
       "<Figure size 432x288 with 1 Axes>"
      ]
     },
     "metadata": {
      "needs_background": "light"
     },
     "output_type": "display_data"
    }
   ],
   "source": [
    "#constantes\n",
    "Tmax=2.0\n",
    "points=1000\n",
    "tolerancia=1e-6\n",
    "#lista para plotear\n",
    "y=[]\n",
    "temp=linspace(0.01,Tmax,points)\n",
    "#bucle de temperatura\n",
    "for T in temp:\n",
    "    m1=1.0\n",
    "    error=1.0\n",
    "    #minimizacion del error\n",
    "    while error>tolerancia:\n",
    "        m1,m2=tanh(m1/T),m1\n",
    "        error=abs((m1-m2)/(1-T*cosh(m2/T)**2))\n",
    "    y.append(m1)   \n",
    "#grafica\n",
    "grid('on')\n",
    "plot(temp,y,'r')\n",
    "ylim(-0.1,1.1)\n",
    "xlabel(\"Tempertura\")\n",
    "ylabel(\"Magnetizacoin\")\n",
    "show()"
   ]
  },
  {
   "cell_type": "markdown",
   "metadata": {},
   "source": [
    "## Ejercio  6.10"
   ]
  },
  {
   "cell_type": "markdown",
   "metadata": {},
   "source": [
    "# A)"
   ]
  },
  {
   "cell_type": "code",
   "execution_count": 3,
   "metadata": {},
   "outputs": [
    {
     "name": "stdout",
     "output_type": "stream",
     "text": [
      "solucion de la ecuacion 0.7968126311118457\n",
      "numero de iterasiones 14\n"
     ]
    }
   ],
   "source": [
    "#constantes\n",
    "c=2\n",
    "points=1000\n",
    "tolerancia=1e-6\n",
    "m1=1.0\n",
    "error=1.0\n",
    "i=0\n",
    "#minimizacion del error\n",
    "while error>tolerancia:\n",
    "    m1,m2=1-exp(-c*m1),m1\n",
    "    error=abs((m1-m2)/(1-(exp(c*m2)/c)))\n",
    "    i=i+1\n",
    "print(\"solucion de la ecuacion\",m1)\n",
    "print(\"numero de iterasiones\",i)\n"
   ]
  },
  {
   "cell_type": "markdown",
   "metadata": {},
   "source": [
    "# B)"
   ]
  },
  {
   "cell_type": "code",
   "execution_count": 4,
   "metadata": {},
   "outputs": [
    {
     "data": {
      "image/png": "[encoded data removed]",
      "text/plain": [
       "<Figure size 432x288 with 1 Axes>"
      ]
     },
     "metadata": {
      "needs_background": "light"
     },
     "output_type": "display_data"
    }
   ],
   "source": [
    "#constantes\n",
    "\n",
    "points=80\n",
    "tolerancia=1e-6\n",
    "#lista para plotear\n",
    "X=linspace(0.0001,3,points)\n",
    "y=[]\n",
    "#minimizacion del error\n",
    "for c in X:\n",
    "    m1=1.0\n",
    "    error=1.0\n",
    "    while error>tolerancia:\n",
    "        m1,m2=1-exp(-c*m1),m1\n",
    "        error=abs((m1-m2)/(1-(exp(c*m2)/c))) \n",
    "    y.append(m1)\n",
    "grid('on')\n",
    "plot(X,y,'g')\n",
    "xlabel(\"C,valor independiente\")\n",
    "ylabel(\"soluciones del valor independiente\")\n",
    "show()"
   ]
  },
  {
   "cell_type": "markdown",
   "metadata": {},
   "source": [
    "## EJERCICIO 6.11"
   ]
  },
  {
   "cell_type": "markdown",
   "metadata": {},
   "source": [
    "\n"
   ]
  },
  {
   "cell_type": "markdown",
   "metadata": {},
   "source": [
    "# C)"
   ]
  },
  {
   "cell_type": "code",
   "execution_count": 5,
   "metadata": {},
   "outputs": [
    {
     "name": "stdout",
     "output_type": "stream",
     "text": [
      "La solucion es:  0.7968123729832619\n",
      "el numero de iterasiones es:  4\n"
     ]
    }
   ],
   "source": [
    "c=2\n",
    "w=0.5\n",
    "tolerancia=1e-6\n",
    "m1=1.0\n",
    "error=1.0\n",
    "i=0\n",
    "#minimizacion del error\n",
    "while error>tolerancia:\n",
    "    m1,m2=(1+w)*(1-exp(-c*m1))-w*m1,m1\n",
    "    error=abs((m1-m2)/(1-1/((1+w)*(c*exp(-c*m2))-w)))\n",
    "    i=i+1\n",
    "print(\"La solucion es: \",m1)\n",
    "print(\"el numero de iterasiones es: \",i)"
   ]
  },
  {
   "cell_type": "markdown",
   "metadata": {},
   "source": [
    "# D)"
   ]
  },
  {
   "cell_type": "markdown",
   "metadata": {},
   "source": [
    "¿hay alguna circustania para el cual usar usar un valor w<0 nos ayudaria a encontrar una solucion mas rapido que lo que podemos e el metodo de relajacion ordinario? \n",
    "\n",
    "\n",
    "Si, debido a que si la solucion esta en la parte negativa, se podra usar un valor negativo de w que funcione."
   ]
  },
  {
   "cell_type": "code",
   "execution_count": null,
   "metadata": {},
   "outputs": [],
   "source": []
  }
 ],
 "metadata": {
  "kernelspec": {
   "display_name": "Python 3",
   "language": "python",
   "name": "python3"
  },
  "language_info": {
   "codemirror_mode": {
    "name": "ipython",
    "version": 3
   },
   "file_extension": ".py",
   "mimetype": "text/x-python",
   "name": "python",
   "nbconvert_exporter": "python",
   "pygments_lexer": "ipython3",
   "version": "3.7.4"
  }
 },
 "nbformat": 4,
 "nbformat_minor": 2
}
